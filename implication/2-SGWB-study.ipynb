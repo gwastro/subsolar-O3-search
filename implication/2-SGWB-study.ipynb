{
 "cells": [
  {
   "cell_type": "code",
   "execution_count": 1,
   "metadata": {},
   "outputs": [],
   "source": [
    "%matplotlib inline\n",
    "import numpy as np\n",
    "import matplotlib as mpl\n",
    "import matplotlib.pyplot as plt\n",
    "import lal\n",
    "from pycbc import waveform\n",
    "from tqdm import tqdm\n",
    "\n",
    "# PLOTTING OPTIONS\n",
    "fig_width_pt = 3*246.0  # Get this from LaTeX using \\showthe\\columnwidth\n",
    "inches_per_pt = 1.0/72.27               # Convert pt to inch\n",
    "golden_mean = (np.sqrt(5)-1.0)/2.0         # Aesthetic ratio\n",
    "fig_width = fig_width_pt*inches_per_pt  # width in inches\n",
    "fig_height = fig_width*golden_mean      # height in inches\n",
    "fig_size =  [fig_width,fig_height]\n",
    "\n",
    "params = { 'axes.labelsize': 24,\n",
    "          'font.family': 'serif',\n",
    "          'font.serif': 'Computer Modern Raman',\n",
    "          'font.size': 24,\n",
    "          'legend.fontsize': 20,\n",
    "          'xtick.labelsize': 24,\n",
    "          'ytick.labelsize': 24,\n",
    "          'axes.grid' : True,\n",
    "          'text.usetex': True,\n",
    "          'savefig.dpi' : 100,\n",
    "          'lines.markersize' : 14,\n",
    "          'figure.figsize': fig_size}\n",
    "\n",
    "mpl.rcParams.update(params)"
   ]
  },
  {
   "cell_type": "code",
   "execution_count": 2,
   "metadata": {},
   "outputs": [],
   "source": [
    "c = 3e8\n",
    "G = 6.67e-11\n",
    "pc2m = 3.086e16\n",
    "yr2s = 3.154e7\n",
    "solarmass = 2e30\n",
    "from astropy.cosmology import Planck18  # Planck 2018\n",
    "from scipy.integrate import quad\n",
    "from scipy import optimize"
   ]
  },
  {
   "cell_type": "code",
   "execution_count": 3,
   "metadata": {},
   "outputs": [],
   "source": [
    "def dE_df(mass1,mass2,freq=25):\n",
    "    '''\n",
    "    Return the dE/df given a mass and distance of a BBH merger\n",
    "    '''\n",
    "    #distance_mpc = Planck18.luminosity_distance(z).value\n",
    "    distance_mpc = 1 # distance cancels out with the denominator in h(f), so it doesn't quite matter here\n",
    "    delta_f = 1/4\n",
    "    sptilde, _ = waveform.get_fd_waveform(approximant=\"IMRPhenomD\",\n",
    "                                              mass1=mass1, \n",
    "                                              mass2=mass2, \n",
    "                                              delta_f=delta_f,\n",
    "                                              f_lower=20,\n",
    "                                              distance=distance_mpc)\n",
    "    ind = int(freq/ delta_f)\n",
    "    try:\n",
    "        sptildedata = sptilde.data[ind]\n",
    "    except IndexError:\n",
    "        return 0\n",
    "    return 8/5*np.pi**2*c**3/G*freq**2*(distance_mpc*1e6*pc2m)**2* \\\n",
    "                (np.abs(sptildedata))**2"
   ]
  },
  {
   "cell_type": "markdown",
   "metadata": {},
   "source": [
    "# Comparison between a (37,1) solar mass binary merger and a (5,5) binary merger dE/df"
   ]
  },
  {
   "cell_type": "code",
   "execution_count": 4,
   "metadata": {},
   "outputs": [
    {
     "data": {
      "text/plain": [
       "<matplotlib.legend.Legend at 0x12a134d30>"
      ]
     },
     "execution_count": 4,
     "metadata": {},
     "output_type": "execute_result"
    },
    {
     "name": "stderr",
     "output_type": "stream",
     "text": [
      "findfont: Font family ['serif'] not found. Falling back to DejaVu Sans.\n"
     ]
    },
    {
     "data": {
      "image/png": "[encoded data removed]",
      "text/plain": [
       "<Figure size 735.243x454.405 with 1 Axes>"
      ]
     },
     "metadata": {
      "needs_background": "light"
     },
     "output_type": "display_data"
    }
   ],
   "source": [
    "ef1 = []\n",
    "ef2 = []\n",
    "freq = np.linspace(20,1000,100)\n",
    "for f in freq:\n",
    "    ef1.append( dE_df(37,1,f))\n",
    "    ef2.append( dE_df(5,5,f))\n",
    "ef1 = np.array(ef1)\n",
    "ef2 = np.array(ef2)\n",
    "plt.plot(freq,ef1,label='37,1')\n",
    "plt.plot(freq,ef2,label='5,5')\n",
    "plt.xscale('log')\n",
    "plt.yscale('log')\n",
    "plt.legend()"
   ]
  },
  {
   "cell_type": "code",
   "execution_count": 5,
   "metadata": {},
   "outputs": [],
   "source": [
    "t0 = Planck18.age(0).value # age of the Universe\n",
    "def rate_deltamass(m,f,z):\n",
    "    '''\n",
    "    m is mass\n",
    "    f is fraction of PBH in dark matter\n",
    "    z is the redshift\n",
    "    '''\n",
    "    sigma_eq = 0.005\n",
    "    t = Planck18.age(z).value\n",
    "    return 3e6 * (t/t0)**(-34/37) * f**2*(0.7*f**2+sigma_eq**2)**(-21./74)*m**(-32/37)\n",
    "\n",
    "def rate_twomass(m1,m2,p_m1,z):\n",
    "    # fix the primary mass's f_pbh to be 3e-3\n",
    "    f_pbh_m1 = 3e-3\n",
    "    # the fraction of p1 is a free variable\n",
    "    p1 = p_m1\n",
    "    p2 = 1-p1\n",
    "    # the total fraction of PBH including m1 and m2\n",
    "    f = f_pbh_m1/p_m1\n",
    "    sigma_eq = 0.005\n",
    "    t = Planck18.age(z).value\n",
    "    return 3e6 * (t/t0)**(-34/37) * f**2 * (0.7*f**2+sigma_eq**2)**(-21./74) \\\n",
    "            *min(p1/m1,p2/m2)*(p1/m1+p2/m2)*(m1*m2)**(3./37)*(m1+m2)**(36./37)\n",
    "\n",
    "def E_of_z(z):\n",
    "    return np.sqrt(Planck18.Om0*(1+z)**3+(1-Planck18.Om0))"
   ]
  },
  {
   "cell_type": "code",
   "execution_count": 6,
   "metadata": {},
   "outputs": [],
   "source": [
    "class sgwb(object):\n",
    "    def __init__(self,mass1,mass2,search_type='comparable'):\n",
    "        '''\n",
    "        search_type = comparable or highmassratio or test\n",
    "        '''\n",
    "        self.mass1 = mass1\n",
    "        self.mass2 = mass2\n",
    "        self.search_type = search_type\n",
    "        self.unit_const = (1e9*pc2m)**3*yr2s\n",
    "        self.rho_c = 3*lal.H0_SI**2*c**2/8/np.pi/G\n",
    "        if self.search_type == 'comparable':\n",
    "            if self.mass1 != self.mass2:\n",
    "                sys.exit('This is comparable mass model! m1 must equal to m2!')\n",
    "        self.integrand = {'comparable': self.integrand_comparablemass,\n",
    "                 'test': self.integrand_test,\n",
    "                 'astro': self.integrand_astro,\n",
    "                 'highmassratio':self.integrand_highmassratio}\n",
    "    def integrand_highmassratio(self, z, det_freq, fraction):\n",
    "        '''\n",
    "        det_freq: the frequency in detector frame\n",
    "        fraction: f_secondary\n",
    "        '''\n",
    "        freq_source = det_freq * (1+z)\n",
    "        p_m1 = 0.003 / (0.003 + fraction)\n",
    "        return rate_twomass(self.mass1,self.mass2,p_m1, z) \\\n",
    "            /self.unit_const/(1+z)/E_of_z(z)*dE_df(self.mass1,self.mass2,freq_source)\n",
    "  \n",
    "    def integrand_comparablemass(self, z, det_freq, fraction):\n",
    "        '''\n",
    "        det_freq: the frequency in detector frame\n",
    "        '''\n",
    "        freq_source = det_freq * (1+z)\n",
    "        return rate_deltamass(self.mass1,fraction,z)/self.unit_const/(1+z)/E_of_z(z)*dE_df(self.mass1,self.mass2,freq_source)\n",
    "    \n",
    "    def integrand_test(self,z,det_freq,fraction):\n",
    "        #set the mass to be the same: all are 0.1 solar mass\n",
    "        return deltamass_rate(0.1,fraction,0)/self.unit_const/(1+z)/E_of_z(z)*dE_df(self.mass1,self.mass2,det_freq)\n",
    "    \n",
    "    def integrand_astro(self, z, det_freq, fraction):\n",
    "        '''\n",
    "        det_freq: the frequency in detector frame\n",
    "        '''\n",
    "        freq_source = det_freq * (1+z)\n",
    "        rbbh = 19\n",
    "        return sfr(z)/sfr(0)*rbbh/self.unit_const/(1+z)/E_of_z(z)*dE_df(self.mass1,self.mass2,freq_source)\n",
    " \n",
    "    def omega_gw_freq(self,fraction,freq_val=25):\n",
    "        '''\n",
    "        compute Omega_gw at 25 Hz\n",
    "        '''\n",
    "        z_low, z_high = 0, 20\n",
    "        I = quad(self.integrand[self.search_type], z_low, z_high, args=(freq_val,fraction))\n",
    "        return freq_val / self.rho_c / lal.H0_SI * I[0]\n",
    "    \n",
    "    def omega_gw_array(self,fraction,freq_array = np.logspace(1,5,100)):\n",
    "        '''\n",
    "        compute Omega_gw at an array of frequency (by default freq=10 to 10^5)\n",
    "        '''\n",
    "        omega = []\n",
    "        z_low, z_high = 0, 20\n",
    "\n",
    "        for freq_val in tqdm(freq_array):\n",
    "            I = quad(self.integrand[self.search_type], z_low, z_high, args=(freq_val,fraction))\n",
    "            omega.append( freq_val / self.rho_c / lal.H0_SI * I[0])\n",
    "        return np.asarray(omega)"
   ]
  },
  {
   "cell_type": "markdown",
   "metadata": {},
   "source": [
    "# Compute the SGWB constraint"
   ]
  },
  {
   "cell_type": "code",
   "execution_count": 17,
   "metadata": {},
   "outputs": [],
   "source": [
    "# here I only need to compute the 25Hz SGWB value, to compare with the LVK results\n",
    "# Given by https://journals.aps.org/prd/pdf/10.1103/PhysRevD.104.022004\n",
    "# The two upper limits are from LogUniform and Uniform prior respectively, see LVK O3 SGWB paper for more details\n",
    "#LVK_upper = 3.4e-9\n",
    "LVK_upper = 1.2e-8\n",
    "\n",
    "#consider mass from 0.1 to 1\n",
    "mass = np.arange(0.05,1.1,0.1)\n",
    "constraint = []"
   ]
  },
  {
   "cell_type": "code",
   "execution_count": 18,
   "metadata": {},
   "outputs": [
    {
     "name": "stderr",
     "output_type": "stream",
     "text": [
      "100%|██████████| 11/11 [01:14<00:00,  6.78s/it]\n"
     ]
    }
   ],
   "source": [
    "for m in tqdm(mass):\n",
    "    sgwb_com = sgwb(m,m,'comparable')\n",
    "    def CacheFunction(f):\n",
    "        return sgwb_com.omega_gw_freq(f) - LVK_upper\n",
    "    sol = optimize.root_scalar(CacheFunction, bracket=[5e-3, 1], method='brentq')\n",
    "    constraint.append(sol.root)   "
   ]
  },
  {
   "cell_type": "code",
   "execution_count": 19,
   "metadata": {},
   "outputs": [],
   "source": [
    "np.savetxt('sgwb_com_mass_uniform.txt',np.transpose([mass,constraint]))\n",
    "#np.savetxt('sgwb_com_mass_loguniform.txt',np.transpose([mass,constraint]))\n",
    "\n",
    "#change the LVK_upper to 3.4e-9 to obtain the sgwb_com_mass_loguniform.txt results"
   ]
  },
  {
   "cell_type": "code",
   "execution_count": null,
   "metadata": {},
   "outputs": [],
   "source": []
  }
 ],
 "metadata": {
  "kernelspec": {
   "display_name": "Python 3",
   "language": "python",
   "name": "python3"
  },
  "language_info": {
   "codemirror_mode": {
    "name": "ipython",
    "version": 3
   },
   "file_extension": ".py",
   "mimetype": "text/x-python",
   "name": "python",
   "nbconvert_exporter": "python",
   "pygments_lexer": "ipython3",
   "version": "3.9.1"
  }
 },
 "nbformat": 4,
 "nbformat_minor": 2
}
